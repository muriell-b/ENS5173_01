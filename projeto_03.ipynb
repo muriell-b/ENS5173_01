{
 "cells": [
  {
   "cell_type": "markdown",
   "id": "f5f6c946-e047-4e57-b6d8-93bfa1e805e5",
   "metadata": {},
   "source": [
    "MODELAGEM DE DISPERSÃO \\\n",
    "Neste notebook vamos implementar um modelo de dispersão gaussiano."
   ]
  },
  {
   "cell_type": "code",
   "execution_count": 1,
   "id": "55992137-1bc5-4875-a332-69d253434b93",
   "metadata": {},
   "outputs": [],
   "source": [
    "# Criando uma função do modelo gaussiano\n",
    "import numpy as np\n",
    "def modeloGaussiano(qs,sigmaY,sigmaZ,u,y,z,H):\n",
    "    termo1 = qs/(2*np.pi*sigmaY*sigmaZ*u)\n",
    "    termo2 = np.exp((-y**2)/(2*sigmaY**2))\n",
    "    termo3 = np.exp((-(z-H)**2)/(2*sigmaZ**2)) + np.exp((-(z+H)**2)/(2*sigmaZ**2))\n",
    "    conc = termo1*termo2*termo3\n",
    "    conc = conc*10**6\n",
    "    return conc"
   ]
  },
  {
   "cell_type": "code",
   "execution_count": 2,
   "id": "66a7c0dc-058d-4bbc-87ce-672b16bb84fe",
   "metadata": {},
   "outputs": [],
   "source": [
    "# Criando função da estimativa da dispersão lateral e vertical da pluma\n",
    "def sigmaXY(x,classe,urbOrRural):\n",
    "    if urbOrRural=='urbano':\n",
    "        if (classe=='A') or (classe=='B'):\n",
    "            sigmaY = 0.32*x*(1+0.0004*x)**(-0.5)\n",
    "            sigmaZ = 0.24*x*(1+0.001*x)**(0.5)\n",
    "        else:\n",
    "            print('Classe de estabilidade errada')\n",
    "    if urbOrRural=='rural':\n",
    "        if (classe=='A') :\n",
    "            sigmaY = 0.22*x*(1+0.0001*x)**(-0.5)\n",
    "            sigmaZ = 0.20*x\n",
    "        else:\n",
    "            print('Classe de estabilidade errada. Fique ligado')\n",
    "    return sigmaY,sigmaZ"
   ]
  },
  {
   "cell_type": "code",
   "execution_count": 3,
   "id": "cd5984a3-4f0e-485e-8d51-53b7a8927400",
   "metadata": {},
   "outputs": [
    {
     "name": "stdout",
     "output_type": "stream",
     "text": [
      "A concentração estimada é = 86.2052564132534 [$\\mu$]g/m³\n"
     ]
    }
   ],
   "source": [
    "# Utilizando a função do modelo gaussiano\n",
    "qs = 100 # g/s\n",
    "sigmaY = 10 # m\n",
    "sigmaZ = 15 # m\n",
    "u = 10 # m/s\n",
    "y = 0 # estimando na direção do vento\n",
    "z = 1.5 # altura do nariz\n",
    "H = 50 # m\n",
    "\n",
    "# Chamando a função do modelo gaussiano\n",
    "conc = modeloGaussiano(qs,sigmaY,sigmaZ,u,y,z,H)\n",
    "\n",
    "print(\"A concentração estimada é = \" +str(conc) + ' [$\\mu$]g/m³')"
   ]
  },
  {
   "cell_type": "code",
   "execution_count": null,
   "id": "068ceeda-97e5-453d-ac28-d070862a77d0",
   "metadata": {},
   "outputs": [],
   "source": []
  }
 ],
 "metadata": {
  "kernelspec": {
   "display_name": "Python 3 (ipykernel)",
   "language": "python",
   "name": "python3"
  },
  "language_info": {
   "codemirror_mode": {
    "name": "ipython",
    "version": 3
   },
   "file_extension": ".py",
   "mimetype": "text/x-python",
   "name": "python",
   "nbconvert_exporter": "python",
   "pygments_lexer": "ipython3",
   "version": "3.11.8"
  }
 },
 "nbformat": 4,
 "nbformat_minor": 5
}
