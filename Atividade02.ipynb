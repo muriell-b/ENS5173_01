{
 "cells": [
  {
   "cell_type": "markdown",
   "id": "f74d73de-76b6-4369-b0e5-fb839d52c5b2",
   "metadata": {},
   "source": [
    "Caracterização meteorológica da área de estudo\n",
    "\n",
    "Nesta atividade caracterizaremos a meteorologia da área de estudo. Avaliaremos os seguintes pontos:\n",
    "\n",
    "1. Meteorologia de superfície\n",
    "2. Meteorologia upperair ou sondagem/perfil da atmosfera\n",
    "3. Superfície - Albedo, razão de Bowen e Rugosidade \\\n",
    "   \n",
    "Meteorologia de superfície \\\n",
    "\n",
    "Analisaremos os dados de metar (estação meteorológica em aeroportos). Os dados serão coletados na plataforma https://hoinaski.prof.ufsc.br/BRAIN/getMETAR .\n"
   ]
  },
  {
   "cell_type": "code",
   "execution_count": null,
   "id": "0da1f6c3-1c4f-40ea-9348-ea7829cc72a1",
   "metadata": {},
   "outputs": [],
   "source": []
  }
 ],
 "metadata": {
  "kernelspec": {
   "display_name": "Python 3 (ipykernel)",
   "language": "python",
   "name": "python3"
  },
  "language_info": {
   "codemirror_mode": {
    "name": "ipython",
    "version": 3
   },
   "file_extension": ".py",
   "mimetype": "text/x-python",
   "name": "python",
   "nbconvert_exporter": "python",
   "pygments_lexer": "ipython3",
   "version": "3.11.8"
  }
 },
 "nbformat": 4,
 "nbformat_minor": 5
}
