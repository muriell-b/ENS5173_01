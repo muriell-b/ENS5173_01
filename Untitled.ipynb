{
 "cells": [
  {
   "cell_type": "markdown",
   "id": "b67680d4-e73e-4c40-b136-896b1dd64de3",
   "metadata": {},
   "source": [
    "Aula 02 - Python\n",
    "\n"
   ]
  },
  {
   "cell_type": "code",
   "execution_count": null,
   "id": "cbdc233d-d1b4-448c-8da0-a28235f79af9",
   "metadata": {},
   "outputs": [],
   "source": []
  }
 ],
 "metadata": {
  "kernelspec": {
   "display_name": "Python 3 (ipykernel)",
   "language": "python",
   "name": "python3"
  },
  "language_info": {
   "codemirror_mode": {
    "name": "ipython",
    "version": 3
   },
   "file_extension": ".py",
   "mimetype": "text/x-python",
   "name": "python",
   "nbconvert_exporter": "python",
   "pygments_lexer": "ipython3",
   "version": "3.11.8"
  }
 },
 "nbformat": 4,
 "nbformat_minor": 5
}
