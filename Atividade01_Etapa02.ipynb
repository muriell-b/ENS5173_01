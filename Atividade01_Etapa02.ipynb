{
 "cells": [
  {
   "cell_type": "markdown",
   "id": "7565344d-6f3f-4032-873a-68c20fde4fa7",
   "metadata": {},
   "source": [
    "Atividade01_Etapa02\n"
   ]
  },
  {
   "cell_type": "code",
   "execution_count": 1,
   "id": "d914f9e2-0176-43e3-8b16-be4c0c6d9cd6",
   "metadata": {},
   "outputs": [
    {
     "name": "stdout",
     "output_type": "stream",
     "text": [
      "(1000, 2)\n",
      "2000\n",
      "[[0.36447934 0.94906573]\n",
      " [0.77263218 0.90730385]\n",
      " [0.94923898 0.97148317]\n",
      " [0.18104583 0.24949592]\n",
      " [0.7606583  0.16362978]\n",
      " [0.93066218 0.85130791]\n",
      " [0.73045873 0.20511506]\n",
      " [0.43440258 0.06140233]\n",
      " [0.78828166 0.04246681]\n",
      " [0.38680858 0.38505028]]\n",
      "(10, 2)\n"
     ]
    }
   ],
   "source": [
    "import numpy as np\n",
    "\n",
    "# Criando um vetor de dados aleatórios\n",
    "data = np.random.rand(1000,2)\n",
    "\n",
    "# Verificando o tamanho do vetor\n",
    "print(data.shape)\n",
    "print(np.size(data))\n",
    "\n",
    "# Print de uma amostra dos dados\n",
    "print(data[0:10])\n",
    "print(data[0:10].shape)"
   ]
  },
  {
   "cell_type": "code",
   "execution_count": 2,
   "id": "9e5e67d4-d949-406d-bb01-3e1840daa21b",
   "metadata": {},
   "outputs": [
    {
     "name": "stdout",
     "output_type": "stream",
     "text": [
      "[[370.83454744 949.57507487]\n",
      " [774.90585926 908.23081085]\n",
      " [949.74658813 971.76834277]\n",
      " [189.23536933 257.00096087]\n",
      " [763.05171718 171.99348519]\n",
      " [931.35556006 852.79483225]\n",
      " [733.15414301 213.06390671]\n",
      " [440.05855562  70.78830274]\n",
      " [790.39884047  52.04214419]\n",
      " [392.94049629 391.19977751]]\n"
     ]
    }
   ],
   "source": [
    "# Usando Monte-Carlo\n",
    "dataMax = 1000\n",
    "dataMin = 10\n",
    "data = (dataMax - dataMin)*data + dataMin\n",
    "print(data[0:10])"
   ]
  },
  {
   "cell_type": "code",
   "execution_count": 3,
   "id": "33a22fa0-aa3c-426e-b675-9dc1a1127a8b",
   "metadata": {},
   "outputs": [
    {
     "ename": "ModuleNotFoundError",
     "evalue": "No module named 'matplotlib'",
     "output_type": "error",
     "traceback": [
      "\u001b[1;31m---------------------------------------------------------------------------\u001b[0m",
      "\u001b[1;31mModuleNotFoundError\u001b[0m                       Traceback (most recent call last)",
      "Cell \u001b[1;32mIn[3], line 1\u001b[0m\n\u001b[1;32m----> 1\u001b[0m \u001b[38;5;28;01mimport\u001b[39;00m \u001b[38;5;21;01mmatplotlib\u001b[39;00m\u001b[38;5;21;01m.\u001b[39;00m\u001b[38;5;21;01mpyplot\u001b[39;00m \u001b[38;5;28;01mas\u001b[39;00m \u001b[38;5;21;01mplt\u001b[39;00m\n\u001b[0;32m      3\u001b[0m fig, ax \u001b[38;5;241m=\u001b[39m plt\u001b[38;5;241m.\u001b[39msubplots(\u001b[38;5;241m3\u001b[39m)\n\u001b[0;32m      4\u001b[0m ax[\u001b[38;5;241m0\u001b[39m]\u001b[38;5;241m.\u001b[39mplot(data)\n",
      "\u001b[1;31mModuleNotFoundError\u001b[0m: No module named 'matplotlib'"
     ]
    }
   ],
   "source": [
    "import matplotlib.pyplot as plt\n",
    "\n",
    "fig, ax = plt.subplots(3)\n",
    "ax[0].plot(data)\n",
    "ax[1].plot(data[:,0])\n",
    "ax[2].plot(data[:,1])\n",
    "print(type(data))"
   ]
  },
  {
   "cell_type": "code",
   "execution_count": null,
   "id": "1f255b0e-2563-4804-9d9e-5e8f50ccbc2a",
   "metadata": {},
   "outputs": [],
   "source": []
  }
 ],
 "metadata": {
  "kernelspec": {
   "display_name": "Python 3 (ipykernel)",
   "language": "python",
   "name": "python3"
  },
  "language_info": {
   "codemirror_mode": {
    "name": "ipython",
    "version": 3
   },
   "file_extension": ".py",
   "mimetype": "text/x-python",
   "name": "python",
   "nbconvert_exporter": "python",
   "pygments_lexer": "ipython3",
   "version": "3.11.8"
  }
 },
 "nbformat": 4,
 "nbformat_minor": 5
}
