{
 "cells": [
  {
   "cell_type": "markdown",
   "id": "7565344d-6f3f-4032-873a-68c20fde4fa7",
   "metadata": {},
   "source": [
    "Atividade01_Etapa02\n"
   ]
  },
  {
   "cell_type": "code",
   "execution_count": null,
   "id": "d914f9e2-0176-43e3-8b16-be4c0c6d9cd6",
   "metadata": {},
   "outputs": [],
   "source": []
  }
 ],
 "metadata": {
  "kernelspec": {
   "display_name": "Python 3 (ipykernel)",
   "language": "python",
   "name": "python3"
  },
  "language_info": {
   "codemirror_mode": {
    "name": "ipython",
    "version": 3
   },
   "file_extension": ".py",
   "mimetype": "text/x-python",
   "name": "python",
   "nbconvert_exporter": "python",
   "pygments_lexer": "ipython3",
   "version": "3.11.8"
  }
 },
 "nbformat": 4,
 "nbformat_minor": 5
}
