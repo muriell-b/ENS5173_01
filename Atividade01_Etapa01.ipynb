{
 "cells": [
  {
   "cell_type": "markdown",
   "id": "b67680d4-e73e-4c40-b136-896b1dd64de3",
   "metadata": {},
   "source": [
    "Aula 02 - Python\n",
    "\n"
   ]
  },
  {
   "cell_type": "code",
   "execution_count": 1,
   "id": "cbdc233d-d1b4-448c-8da0-a28235f79af9",
   "metadata": {},
   "outputs": [
    {
     "name": "stdout",
     "output_type": "stream",
     "text": [
      "Valor de a = 1\n"
     ]
    },
    {
     "data": {
      "text/plain": [
       "int"
      ]
     },
     "execution_count": 1,
     "metadata": {},
     "output_type": "execute_result"
    }
   ],
   "source": [
    "# Variável inteira\n",
    "a = 1\n",
    "print('Valor de a = '+str(a))\n",
    "type(a)\n"
   ]
  },
  {
   "cell_type": "code",
   "execution_count": 3,
   "id": "9a3f0d1e-4fa4-445d-86da-9448fe02d73a",
   "metadata": {},
   "outputs": [
    {
     "name": "stdout",
     "output_type": "stream",
     "text": [
      "1.0\n"
     ]
    },
    {
     "data": {
      "text/plain": [
       "float"
      ]
     },
     "execution_count": 3,
     "metadata": {},
     "output_type": "execute_result"
    }
   ],
   "source": [
    "# Variável dupla precisão\n",
    "b = 1.0\n",
    "print(b)\n",
    "type(b)\n"
   ]
  },
  {
   "cell_type": "code",
   "execution_count": 4,
   "id": "20ceee2a-9da1-4e57-859a-e60ee0c6324b",
   "metadata": {},
   "outputs": [
    {
     "name": "stdout",
     "output_type": "stream",
     "text": [
      "1\n"
     ]
    },
    {
     "data": {
      "text/plain": [
       "int"
      ]
     },
     "execution_count": 4,
     "metadata": {},
     "output_type": "execute_result"
    }
   ],
   "source": [
    "# Converter float para int\n",
    "c = int(b)\n",
    "print(c)\n",
    "type(c)\n"
   ]
  },
  {
   "cell_type": "code",
   "execution_count": 9,
   "id": "36cdd098-b5e2-41f8-83e0-dce0c379bea2",
   "metadata": {},
   "outputs": [
    {
     "name": "stdout",
     "output_type": "stream",
     "text": [
      "nan\n"
     ]
    },
    {
     "data": {
      "text/plain": [
       "float"
      ]
     },
     "execution_count": 9,
     "metadata": {},
     "output_type": "execute_result"
    }
   ],
   "source": [
    "# Delacrando nan\n",
    "import numpy as np\n",
    "d = np.nan\n",
    "print(d)\n",
    "type(d)\n",
    "\n",
    "\n"
   ]
  },
  {
   "cell_type": "code",
   "execution_count": 10,
   "id": "7b6080cf-fdb0-41ef-8a4e-cce54b54f0dc",
   "metadata": {},
   "outputs": [
    {
     "name": "stdout",
     "output_type": "stream",
     "text": [
      "nan\n",
      "nan\n",
      "1.0\n"
     ]
    }
   ],
   "source": [
    "# Operação com NaN\n",
    "e = d*1\n",
    "print(e)\n",
    "e = d+1\n",
    "print(e)\n",
    "e = np.nansum([d,1])\n",
    "print(e)\n"
   ]
  },
  {
   "cell_type": "code",
   "execution_count": 11,
   "id": "acf2f4cf-073b-484b-b45a-bccdbb9f3add",
   "metadata": {},
   "outputs": [
    {
     "name": "stdout",
     "output_type": "stream",
     "text": [
      "Fábio\n",
      "Gabriel\n",
      "FábioGabriel\n",
      "Fábio Gabriel\n"
     ]
    }
   ],
   "source": [
    "# Declaração de variável texto\n",
    "f = 'Fábio'\n",
    "g = \"Gabriel\"\n",
    "print(f)\n",
    "print(g)\n",
    "print(f+g)\n",
    "print(f+' '+g)\n"
   ]
  },
  {
   "cell_type": "code",
   "execution_count": 12,
   "id": "abfc8247-a1e9-466f-9c22-8bba1f76b1f5",
   "metadata": {},
   "outputs": [
    {
     "data": {
      "text/plain": [
       "True"
      ]
     },
     "execution_count": 12,
     "metadata": {},
     "output_type": "execute_result"
    }
   ],
   "source": [
    "a == 1\n"
   ]
  },
  {
   "cell_type": "code",
   "execution_count": 13,
   "id": "7bc99cac-54f1-46da-9b86-bbfa761a4ddf",
   "metadata": {},
   "outputs": [
    {
     "name": "stdout",
     "output_type": "stream",
     "text": [
      "True\n"
     ]
    },
    {
     "data": {
      "text/plain": [
       "bool"
      ]
     },
     "execution_count": 13,
     "metadata": {},
     "output_type": "execute_result"
    }
   ],
   "source": [
    "h = (a==1)\n",
    "print(h)\n",
    "type(h)\n"
   ]
  },
  {
   "cell_type": "code",
   "execution_count": 14,
   "id": "9d7b09f1-86f2-4af3-8276-211c1ccf08b9",
   "metadata": {},
   "outputs": [
    {
     "name": "stdout",
     "output_type": "stream",
     "text": [
      "False\n"
     ]
    },
    {
     "data": {
      "text/plain": [
       "bool"
      ]
     },
     "execution_count": 14,
     "metadata": {},
     "output_type": "execute_result"
    }
   ],
   "source": [
    "h = (a==2)\n",
    "print(h)\n",
    "type(h)\n"
   ]
  },
  {
   "cell_type": "code",
   "execution_count": 15,
   "id": "7c5255ab-d3e7-456b-977c-2c234a2e6c74",
   "metadata": {},
   "outputs": [
    {
     "data": {
      "text/plain": [
       "bool"
      ]
     },
     "execution_count": 15,
     "metadata": {},
     "output_type": "execute_result"
    }
   ],
   "source": [
    "i = True\n",
    "type(i)\n"
   ]
  },
  {
   "cell_type": "code",
   "execution_count": 16,
   "id": "4824dd5a-6cea-48fd-9a46-c3e534635fa9",
   "metadata": {},
   "outputs": [
    {
     "data": {
      "text/plain": [
       "str"
      ]
     },
     "execution_count": 16,
     "metadata": {},
     "output_type": "execute_result"
    }
   ],
   "source": [
    "ii = 'True'\n",
    "type(ii)\n"
   ]
  },
  {
   "cell_type": "code",
   "execution_count": 17,
   "id": "40ecfb59-ea5c-4df7-9d8f-e00c3a6ca6e4",
   "metadata": {},
   "outputs": [
    {
     "data": {
      "text/plain": [
       "True"
      ]
     },
     "execution_count": 17,
     "metadata": {},
     "output_type": "execute_result"
    }
   ],
   "source": [
    "# Operação ==\n",
    "a==b\n"
   ]
  },
  {
   "cell_type": "code",
   "execution_count": 18,
   "id": "3ab065d1-d57f-48a6-b587-7885cdf7720c",
   "metadata": {},
   "outputs": [
    {
     "data": {
      "text/plain": [
       "False"
      ]
     },
     "execution_count": 18,
     "metadata": {},
     "output_type": "execute_result"
    }
   ],
   "source": [
    "# Operação ><\n",
    "a>b\n"
   ]
  },
  {
   "cell_type": "code",
   "execution_count": 19,
   "id": "36515110-15af-40bd-9fc7-5d3a3acee530",
   "metadata": {},
   "outputs": [
    {
     "data": {
      "text/plain": [
       "False"
      ]
     },
     "execution_count": 19,
     "metadata": {},
     "output_type": "execute_result"
    }
   ],
   "source": [
    "# Operação !=\n",
    "a!=b\n"
   ]
  },
  {
   "cell_type": "code",
   "execution_count": 20,
   "id": "03418d2a-804f-4a10-8f8f-6581ab1afd78",
   "metadata": {},
   "outputs": [
    {
     "data": {
      "text/plain": [
       "True"
      ]
     },
     "execution_count": 20,
     "metadata": {},
     "output_type": "execute_result"
    }
   ],
   "source": [
    "# Operação >= ou <=\n",
    "a>=b\n"
   ]
  },
  {
   "cell_type": "code",
   "execution_count": 21,
   "id": "55196b00-eba6-462d-a481-e72d4111c236",
   "metadata": {},
   "outputs": [
    {
     "data": {
      "text/plain": [
       "2.0"
      ]
     },
     "execution_count": 21,
     "metadata": {},
     "output_type": "execute_result"
    }
   ],
   "source": [
    "# Soma \n",
    "a+b"
   ]
  },
  {
   "cell_type": "code",
   "execution_count": 22,
   "id": "b51a2ce3-8262-42e5-9683-abb472cd2e27",
   "metadata": {},
   "outputs": [
    {
     "name": "stdout",
     "output_type": "stream",
     "text": [
      "2.0\n"
     ]
    }
   ],
   "source": [
    "# Soma e atribui valor\n",
    "ab = a+b\n",
    "print(ab)"
   ]
  },
  {
   "cell_type": "code",
   "execution_count": 23,
   "id": "051cbbc7-0cc6-4ab0-93c5-69fe0744dc03",
   "metadata": {},
   "outputs": [
    {
     "name": "stdout",
     "output_type": "stream",
     "text": [
      "Não use l como nome de variável\n",
      "1.0\n"
     ]
    }
   ],
   "source": [
    "# Multiplicação\n",
    "l = a*b # Não use l como variável\n",
    "print(\"Não use l como nome de variável\")\n",
    "j = a*b\n",
    "print(j)"
   ]
  },
  {
   "cell_type": "code",
   "execution_count": 24,
   "id": "246a7074-f12f-4994-80af-6f6bc16bc3fa",
   "metadata": {},
   "outputs": [
    {
     "data": {
      "text/plain": [
       "1.0"
      ]
     },
     "execution_count": 24,
     "metadata": {},
     "output_type": "execute_result"
    }
   ],
   "source": [
    "# Divisão\n",
    "a/b"
   ]
  },
  {
   "cell_type": "code",
   "execution_count": 25,
   "id": "7274e493-0f38-480b-90fe-cdbbace91e41",
   "metadata": {},
   "outputs": [
    {
     "data": {
      "text/plain": [
       "25"
      ]
     },
     "execution_count": 25,
     "metadata": {},
     "output_type": "execute_result"
    }
   ],
   "source": [
    "# Potencia\n",
    "5**2"
   ]
  },
  {
   "cell_type": "code",
   "execution_count": 26,
   "id": "3af00b4d-cbc9-4f97-846c-90b97cfb8d65",
   "metadata": {},
   "outputs": [
    {
     "data": {
      "text/plain": [
       "22026.465794806718"
      ]
     },
     "execution_count": 26,
     "metadata": {},
     "output_type": "execute_result"
    }
   ],
   "source": [
    "# Operações matemáticas com a bibliotéca math\n",
    "import math\n",
    "\n",
    "math.exp(10)"
   ]
  },
  {
   "cell_type": "code",
   "execution_count": 27,
   "id": "a79b93df-1e7d-4d43-b541-1c2f2b119a6d",
   "metadata": {},
   "outputs": [
    {
     "data": {
      "text/plain": [
       "1.0"
      ]
     },
     "execution_count": 27,
     "metadata": {},
     "output_type": "execute_result"
    }
   ],
   "source": [
    "math.exp(0)\n"
   ]
  },
  {
   "cell_type": "code",
   "execution_count": 28,
   "id": "c650831a-5994-4b2f-aed9-6a7b09dcc5db",
   "metadata": {},
   "outputs": [
    {
     "data": {
      "text/plain": [
       "2.718281828459045"
      ]
     },
     "execution_count": 28,
     "metadata": {},
     "output_type": "execute_result"
    }
   ],
   "source": [
    "math.exp(a)\n"
   ]
  },
  {
   "cell_type": "code",
   "execution_count": 29,
   "id": "80a54877-1213-4196-97cf-64c83c802250",
   "metadata": {},
   "outputs": [
    {
     "data": {
      "text/plain": [
       "4.5399929762484854e-05"
      ]
     },
     "execution_count": 29,
     "metadata": {},
     "output_type": "execute_result"
    }
   ],
   "source": [
    "math.exp(-10)"
   ]
  },
  {
   "cell_type": "code",
   "execution_count": 34,
   "id": "54b258d7-d7f7-4144-9431-0675e241b35c",
   "metadata": {},
   "outputs": [
    {
     "name": "stdout",
     "output_type": "stream",
     "text": [
      "0.0\n"
     ]
    }
   ],
   "source": [
    "import math as mt\n",
    "\n",
    "# Calculando o logaritmo de c\n",
    "resultado = mt.log(c)\n",
    "\n",
    "# Imprimindo o resultado\n",
    "print(resultado)  # Saída: valor do logaritmo de c\n",
    "\n"
   ]
  },
  {
   "cell_type": "code",
   "execution_count": 35,
   "id": "f0fe64a0-e6c3-4a4f-b511-272a4875c892",
   "metadata": {},
   "outputs": [
    {
     "data": {
      "text/plain": [
       "2.0"
      ]
     },
     "execution_count": 35,
     "metadata": {},
     "output_type": "execute_result"
    }
   ],
   "source": [
    "mt.log10(100)\n"
   ]
  },
  {
   "cell_type": "code",
   "execution_count": 36,
   "id": "f8db46ce-cc9b-4af6-b6c5-2fcfe7623c56",
   "metadata": {},
   "outputs": [
    {
     "name": "stdout",
     "output_type": "stream",
     "text": [
      "[1, 2, 3]\n"
     ]
    }
   ],
   "source": [
    "myFirstList = [1,2,3]\n",
    "print(myFirstList)"
   ]
  },
  {
   "cell_type": "code",
   "execution_count": 37,
   "id": "eb73d41e-09f2-46c1-b4a4-882a9fdd7668",
   "metadata": {},
   "outputs": [
    {
     "name": "stdout",
     "output_type": "stream",
     "text": [
      "1\n",
      "3\n"
     ]
    }
   ],
   "source": [
    "# Acessando valores da lista pelo index\n",
    "print(myFirstList[0])\n",
    "print(myFirstList[2])"
   ]
  },
  {
   "cell_type": "code",
   "execution_count": 38,
   "id": "124b6003-fcb8-4832-9234-f171bfb169cf",
   "metadata": {},
   "outputs": [
    {
     "data": {
      "text/plain": [
       "False"
      ]
     },
     "execution_count": 38,
     "metadata": {},
     "output_type": "execute_result"
    }
   ],
   "source": [
    "myFirstList==a\n"
   ]
  },
  {
   "cell_type": "code",
   "execution_count": 39,
   "id": "5ce8ef4d-03fa-46a5-b94a-dbffa9f23184",
   "metadata": {},
   "outputs": [
    {
     "data": {
      "text/plain": [
       "True"
      ]
     },
     "execution_count": 39,
     "metadata": {},
     "output_type": "execute_result"
    }
   ],
   "source": [
    "myFirstList[0]==a"
   ]
  },
  {
   "cell_type": "code",
   "execution_count": 40,
   "id": "9d145fef-6dfd-40e2-9eba-2c4a9bda2dbc",
   "metadata": {},
   "outputs": [
    {
     "name": "stdout",
     "output_type": "stream",
     "text": [
      "[1, 1, 'c']\n"
     ]
    }
   ],
   "source": [
    "mySecList = [1,a,'c']\n",
    "print(mySecList)"
   ]
  },
  {
   "cell_type": "code",
   "execution_count": 41,
   "id": "ec0d7257-c919-450c-b15b-d9c532653a11",
   "metadata": {},
   "outputs": [
    {
     "data": {
      "text/plain": [
       "list"
      ]
     },
     "execution_count": 41,
     "metadata": {},
     "output_type": "execute_result"
    }
   ],
   "source": [
    "type(mySecList)"
   ]
  },
  {
   "cell_type": "code",
   "execution_count": 43,
   "id": "d03a05cb-d5dc-4d06-a5fa-ec4213104f04",
   "metadata": {},
   "outputs": [
    {
     "data": {
      "text/plain": [
       "str"
      ]
     },
     "execution_count": 43,
     "metadata": {},
     "output_type": "execute_result"
    }
   ],
   "source": [
    "type(mySecList[2])\n"
   ]
  },
  {
   "cell_type": "code",
   "execution_count": 44,
   "id": "1ae4be65-c1a4-4859-a5be-d37754ed31b8",
   "metadata": {},
   "outputs": [
    {
     "data": {
      "text/plain": [
       "int"
      ]
     },
     "execution_count": 44,
     "metadata": {},
     "output_type": "execute_result"
    }
   ],
   "source": [
    "type(mySecList[1])\n"
   ]
  },
  {
   "cell_type": "code",
   "execution_count": 47,
   "id": "253d2ea7-49a6-44d3-90fd-bccb3d2c17cf",
   "metadata": {},
   "outputs": [
    {
     "name": "stdout",
     "output_type": "stream",
     "text": [
      "C:\\Users\\D:\\ENS5173_01\n",
      "C:\\Users\\D:\\ENS5173_01\n"
     ]
    }
   ],
   "source": [
    "path = r\"C:\\Users\\D:\\ENS5173_01\"\n",
    "print(path)\n",
    "print(path)"
   ]
  },
  {
   "cell_type": "code",
   "execution_count": 49,
   "id": "639cf89b-43f3-445d-87e3-f8a1471ca042",
   "metadata": {},
   "outputs": [
    {
     "name": "stdout",
     "output_type": "stream",
     "text": [
      "C:/Users/D:/ENS5173_01\n"
     ]
    }
   ],
   "source": [
    "path = \"C:/Users/D:/ENS5173_01\"\n",
    "print(path)\n"
   ]
  },
  {
   "cell_type": "code",
   "execution_count": 51,
   "id": "5f0bea5d-70a0-422c-aef9-0b97e13d1df9",
   "metadata": {},
   "outputs": [
    {
     "name": "stdout",
     "output_type": "stream",
     "text": [
      "['.git', '.gitignore', '.ipynb_checkpoints', 'aula02.ipynb', 'pyEnv', 'README.md', 'scripts']\n"
     ]
    }
   ],
   "source": [
    "import os\n",
    "\n",
    "# Caminho correto para o diretório\n",
    "path = \"D:/ENS5173_01\"\n",
    "\n",
    "# Listar arquivos na pasta\n",
    "files = os.listdir(path)\n",
    "print(files)\n"
   ]
  },
  {
   "cell_type": "code",
   "execution_count": 52,
   "id": "ff3f21ec-84c8-4f1e-b5c4-52f72bd15d8c",
   "metadata": {},
   "outputs": [
    {
     "data": {
      "text/plain": [
       "'.git'"
      ]
     },
     "execution_count": 52,
     "metadata": {},
     "output_type": "execute_result"
    }
   ],
   "source": [
    "# Selecionar primeiro arquivo listado\n",
    "os.listdir(path)[0]"
   ]
  },
  {
   "cell_type": "code",
   "execution_count": 53,
   "id": "4c7e5388-5e16-4df5-acc7-5b058bf3db20",
   "metadata": {},
   "outputs": [
    {
     "data": {
      "text/plain": [
       "'D:/ENS5173_01/.git'"
      ]
     },
     "execution_count": 53,
     "metadata": {},
     "output_type": "execute_result"
    }
   ],
   "source": [
    "# Concatenando caminhos\n",
    "path+\"/\"+os.listdir(path)[0]"
   ]
  },
  {
   "cell_type": "code",
   "execution_count": 54,
   "id": "e1d13bfc-020e-4619-94b0-11e373ff4979",
   "metadata": {},
   "outputs": [
    {
     "data": {
      "text/plain": [
       "['COMMIT_EDITMSG',\n",
       " 'config',\n",
       " 'description',\n",
       " 'FETCH_HEAD',\n",
       " 'HEAD',\n",
       " 'hooks',\n",
       " 'index',\n",
       " 'info',\n",
       " 'logs',\n",
       " 'objects',\n",
       " 'packed-refs',\n",
       " 'refs']"
      ]
     },
     "execution_count": 54,
     "metadata": {},
     "output_type": "execute_result"
    }
   ],
   "source": [
    "# Listando caminho concatenado\n",
    "os.listdir(path+\"/\"+os.listdir(path)[0])"
   ]
  },
  {
   "cell_type": "code",
   "execution_count": 55,
   "id": "c51c4dd7-bbe1-4dcf-b939-d9691d5d7360",
   "metadata": {},
   "outputs": [
    {
     "data": {
      "text/plain": [
       "'D:\\\\ENS5173_01'"
      ]
     },
     "execution_count": 55,
     "metadata": {},
     "output_type": "execute_result"
    }
   ],
   "source": [
    "# Diretório que estou trababalhando\n",
    "os.getcwd()"
   ]
  },
  {
   "cell_type": "code",
   "execution_count": 58,
   "id": "1495a87a-df34-459e-bb20-bcf180d89f3c",
   "metadata": {},
   "outputs": [
    {
     "name": "stdout",
     "output_type": "stream",
     "text": [
      "['.git', '.gitignore', '.ipynb_checkpoints', 'aula02.ipynb', 'pyEnv', 'README.md', 'scripts']\n"
     ]
    }
   ],
   "source": [
    "# Mudo de diretório para o caminho \n",
    "import os\n",
    "\n",
    "# Mudar para o diretório ENS5173_01 na unidade D\n",
    "os.chdir('D:\\\\ENS5173_01')\n",
    "\n",
    "# Listar os arquivos no diretório\n",
    "files = os.listdir()\n",
    "print(files)"
   ]
  },
  {
   "cell_type": "code",
   "execution_count": 59,
   "id": "fb322548-761b-4c13-a799-cebbe16b9521",
   "metadata": {},
   "outputs": [
    {
     "data": {
      "text/plain": [
       "'D:\\\\ENS5173_01'"
      ]
     },
     "execution_count": 59,
     "metadata": {},
     "output_type": "execute_result"
    }
   ],
   "source": [
    "os.getcwd()"
   ]
  },
  {
   "cell_type": "code",
   "execution_count": 60,
   "id": "ac652b96-22fd-4aa6-889d-4ad666990f6e",
   "metadata": {},
   "outputs": [
    {
     "name": "stdout",
     "output_type": "stream",
     "text": [
      "Criando diretório D:\\ENS5173_01/test\n"
     ]
    }
   ],
   "source": [
    "# Criando diretório\n",
    "new_path = os.getcwd()+'/test'\n",
    "\n",
    "if os.path.isdir(new_path):\n",
    "    print('diretório já existe')\n",
    "else:\n",
    "    print('Criando diretório '+new_path)\n",
    "    os.mkdir(new_path)"
   ]
  },
  {
   "cell_type": "code",
   "execution_count": 61,
   "id": "e91e9fd9-3d04-413b-886f-32f17882a082",
   "metadata": {},
   "outputs": [
    {
     "name": "stdout",
     "output_type": "stream",
     "text": [
      "Criando diretório D:\\ENS5173_01/test2\n"
     ]
    }
   ],
   "source": [
    "# Criando diretório\n",
    "new_path = os.getcwd()+'/test2'\n",
    "\n",
    "if os.path.isdir(new_path):\n",
    "    print('diretório já existe')\n",
    "    # Criando um arquivo de texto\n",
    "    with open(new_path+\"/copy.txt\", \"w\") as file:\n",
    "        file.write(\"Your text goes here\")\n",
    "else:\n",
    "    print('Criando diretório '+new_path)\n",
    "    os.mkdir(new_path)\n",
    "    with open(new_path+\"/copy.txt\", \"w\") as file:\n",
    "        file.write(\"Your text goes here\")"
   ]
  },
  {
   "cell_type": "code",
   "execution_count": 62,
   "id": "de9820d2-2071-42b1-b1b4-d010be7c49b6",
   "metadata": {},
   "outputs": [
    {
     "data": {
      "text/plain": [
       "numpy.ndarray"
      ]
     },
     "execution_count": 62,
     "metadata": {},
     "output_type": "execute_result"
    }
   ],
   "source": [
    "import numpy as np\n",
    "# Criando uma variável numpy\n",
    "n = np.array(0)\n",
    "type(n)"
   ]
  },
  {
   "cell_type": "code",
   "execution_count": 63,
   "id": "d4e7e025-0f5f-42c3-b5b0-f4ed5905f696",
   "metadata": {},
   "outputs": [
    {
     "name": "stdout",
     "output_type": "stream",
     "text": [
      "[ 1  2  3 10 20 55]\n"
     ]
    }
   ],
   "source": [
    "# Criando uma variável numpy a partir de uma lista\n",
    "myThirdList=[1,2,3,10,20,55]\n",
    "n = np.array(myThirdList)\n",
    "print(n)"
   ]
  },
  {
   "cell_type": "code",
   "execution_count": 64,
   "id": "d980c1db-f3c6-4247-8445-50ef3fec3c32",
   "metadata": {},
   "outputs": [
    {
     "name": "stdout",
     "output_type": "stream",
     "text": [
      "[[0.15582336 0.78005882 0.99951128 0.96610812 0.2755383  0.91943812\n",
      "  0.41509669 0.19574604 0.71400563 0.32259743]\n",
      " [0.46680596 0.83872091 0.8709472  0.67823728 0.86742611 0.22204245\n",
      "  0.62333162 0.66692096 0.24572191 0.94691771]\n",
      " [0.61672926 0.40861601 0.79205853 0.11876821 0.11220589 0.82185513\n",
      "  0.09475671 0.27223085 0.8519566  0.52748354]\n",
      " [0.38718133 0.99210273 0.44082494 0.96104229 0.0043616  0.72450547\n",
      "  0.81457309 0.30905639 0.92294183 0.09197877]\n",
      " [0.83701986 0.38245554 0.79543565 0.61988944 0.36902601 0.80205179\n",
      "  0.36082652 0.08769747 0.07356677 0.02668737]\n",
      " [0.30910107 0.90991378 0.11142082 0.47670123 0.38244644 0.863977\n",
      "  0.23892681 0.57373077 0.0960018  0.211908  ]\n",
      " [0.60764389 0.43396927 0.23488653 0.05019413 0.56291431 0.64995828\n",
      "  0.34149213 0.62331247 0.0150329  0.35513132]\n",
      " [0.15593096 0.90341379 0.27312723 0.16385966 0.05169888 0.94568908\n",
      "  0.80169729 0.81037819 0.86669402 0.10827726]\n",
      " [0.64887161 0.05310248 0.53666512 0.52152093 0.4104387  0.29525444\n",
      "  0.21229694 0.33324757 0.15572964 0.81587429]\n",
      " [0.9658955  0.61202399 0.85240705 0.46873533 0.12778422 0.56830718\n",
      "  0.47065538 0.79854415 0.09832743 0.54421858]]\n",
      "(10, 10)\n"
     ]
    }
   ],
   "source": [
    "# Criando uma matriz de 10x10 de números aleatórios entre 0 e 1\n",
    "n = np.random.rand(10,10)\n",
    "print(n)\n",
    "# Dimensões da matrix\n",
    "print(n.shape)"
   ]
  },
  {
   "cell_type": "code",
   "execution_count": 65,
   "id": "5978bcb8-9f22-4069-b129-1684d0a3a4f5",
   "metadata": {},
   "outputs": [
    {
     "data": {
      "text/plain": [
       "array([0.15582336, 0.78005882, 0.99951128, 0.96610812, 0.2755383 ,\n",
       "       0.91943812, 0.41509669, 0.19574604, 0.71400563, 0.32259743])"
      ]
     },
     "execution_count": 65,
     "metadata": {},
     "output_type": "execute_result"
    }
   ],
   "source": [
    "# Acessando valores da matriz\n",
    "n[0,:]"
   ]
  },
  {
   "cell_type": "code",
   "execution_count": 66,
   "id": "37053e07-9cf3-4f66-b659-e504ab99c46b",
   "metadata": {},
   "outputs": [
    {
     "data": {
      "text/plain": [
       "array([0.15582336, 0.46680596, 0.61672926, 0.38718133, 0.83701986,\n",
       "       0.30910107, 0.60764389, 0.15593096, 0.64887161, 0.9658955 ])"
      ]
     },
     "execution_count": 66,
     "metadata": {},
     "output_type": "execute_result"
    }
   ],
   "source": [
    "n[:,0]"
   ]
  },
  {
   "cell_type": "code",
   "execution_count": 67,
   "id": "64a7ca0f-ff26-40c1-bcc0-39fa13b3fa0d",
   "metadata": {},
   "outputs": [
    {
     "data": {
      "text/plain": [
       "array([[0.78005882, 0.99951128, 0.96610812, 0.2755383 ],\n",
       "       [0.83872091, 0.8709472 , 0.67823728, 0.86742611],\n",
       "       [0.40861601, 0.79205853, 0.11876821, 0.11220589],\n",
       "       [0.99210273, 0.44082494, 0.96104229, 0.0043616 ],\n",
       "       [0.38245554, 0.79543565, 0.61988944, 0.36902601],\n",
       "       [0.90991378, 0.11142082, 0.47670123, 0.38244644],\n",
       "       [0.43396927, 0.23488653, 0.05019413, 0.56291431],\n",
       "       [0.90341379, 0.27312723, 0.16385966, 0.05169888],\n",
       "       [0.05310248, 0.53666512, 0.52152093, 0.4104387 ],\n",
       "       [0.61202399, 0.85240705, 0.46873533, 0.12778422]])"
      ]
     },
     "execution_count": 67,
     "metadata": {},
     "output_type": "execute_result"
    }
   ],
   "source": [
    "n[:,1:5]"
   ]
  },
  {
   "cell_type": "code",
   "execution_count": 68,
   "id": "043abd4f-716f-4cbc-b515-d3827e6b8b0e",
   "metadata": {},
   "outputs": [
    {
     "data": {
      "text/plain": [
       "array([0.78005882, 0.99951128, 0.96610812, 0.2755383 ])"
      ]
     },
     "execution_count": 68,
     "metadata": {},
     "output_type": "execute_result"
    }
   ],
   "source": [
    "n[0,1:5]"
   ]
  },
  {
   "cell_type": "code",
   "execution_count": 69,
   "id": "3f3371ee-0223-484f-8054-55e28c4ed1e7",
   "metadata": {},
   "outputs": [
    {
     "data": {
      "text/plain": [
       "0.3225974276936975"
      ]
     },
     "execution_count": 69,
     "metadata": {},
     "output_type": "execute_result"
    }
   ],
   "source": [
    "n[0,-1]"
   ]
  },
  {
   "cell_type": "code",
   "execution_count": 70,
   "id": "9949181f-7c24-4b11-9a3b-544c7a42bb28",
   "metadata": {},
   "outputs": [
    {
     "data": {
      "text/plain": [
       "array([0.2755383 , 0.91943812, 0.41509669, 0.19574604, 0.71400563,\n",
       "       0.32259743])"
      ]
     },
     "execution_count": 70,
     "metadata": {},
     "output_type": "execute_result"
    }
   ],
   "source": [
    "n[0,4:]"
   ]
  },
  {
   "cell_type": "code",
   "execution_count": 71,
   "id": "f0de4a24-a266-4ce1-ac1a-cc0accef3dd0",
   "metadata": {},
   "outputs": [
    {
     "name": "stdout",
     "output_type": "stream",
     "text": [
      "[[-0.24959429  1.36105195  1.60894908  1.57495838  0.32040926  1.52544538\n",
      "   0.73019412 -0.02149928  1.27257349  0.47808783]\n",
      " [ 0.84759631  1.43356063  1.47126398  1.22117983  1.46721296  0.10455119\n",
      "   1.13676131  1.20435417  0.20588309  1.55489483]\n",
      " [ 1.12611276  0.71445849  1.37631793 -0.52114361 -0.57798184  1.41324677\n",
      "  -0.74700476  0.30833306  1.44921822  0.9698003 ]\n",
      " [ 0.66057577  1.6015093   0.79033048  1.56970104 -3.82547785  1.28717195\n",
      "   1.40434679  0.43520637  1.52924885 -0.77675956]\n",
      " [ 1.43153043  0.64829506  1.38057259  1.13122378  0.61254976  1.38885581\n",
      "   0.59007991 -0.8244243  -1.00012399 -2.01412697]\n",
      " [ 0.43535095  1.51503248 -0.58500312  0.86857258  0.64827124  1.46322878\n",
      "   0.17783989  1.05384288 -0.73395041  0.05783483]\n",
      " [ 1.11127164  0.77465637  0.16078518 -1.3824192   1.03481005  1.17859081\n",
      "   0.53500726  1.13673058 -2.58807624  0.57417027]\n",
      " [-0.24890404  1.50786332  0.31162038 -0.19930703 -1.35288124  1.55359648\n",
      "   1.38841372  1.39918367  1.46636863 -0.6136222 ]\n",
      " [ 1.1769175  -1.32609374  0.98705692  0.95843204  0.71890921  0.38952012\n",
      "   0.05966861  0.5105683  -0.25019592  1.40594292]\n",
      " [ 1.57473829  1.11845412  1.44974681  0.85172091 -0.44797428  1.04434472\n",
      "   0.85580879  1.3844729  -0.71001433  1.00103361]]\n"
     ]
    }
   ],
   "source": [
    "an = np.log(n*5)\n",
    "print(an)"
   ]
  },
  {
   "cell_type": "code",
   "execution_count": null,
   "id": "f76b423a-3bbd-4289-9622-8680b4108fbf",
   "metadata": {},
   "outputs": [],
   "source": []
  }
 ],
 "metadata": {
  "kernelspec": {
   "display_name": "Python 3 (ipykernel)",
   "language": "python",
   "name": "python3"
  },
  "language_info": {
   "codemirror_mode": {
    "name": "ipython",
    "version": 3
   },
   "file_extension": ".py",
   "mimetype": "text/x-python",
   "name": "python",
   "nbconvert_exporter": "python",
   "pygments_lexer": "ipython3",
   "version": "3.11.8"
  }
 },
 "nbformat": 4,
 "nbformat_minor": 5
}
