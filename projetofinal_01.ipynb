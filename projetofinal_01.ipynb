{
 "cells": [
  {
   "cell_type": "markdown",
   "id": "b82f208f-46d6-4e41-b17f-367cfcc5430d",
   "metadata": {},
   "source": [
    "#MODELAGEM DE DISPERSÃO\n"
   ]
  }
 ],
 "metadata": {
  "kernelspec": {
   "display_name": "Python 3 (ipykernel)",
   "language": "python",
   "name": "python3"
  },
  "language_info": {
   "codemirror_mode": {
    "name": "ipython",
    "version": 3
   },
   "file_extension": ".py",
   "mimetype": "text/x-python",
   "name": "python",
   "nbconvert_exporter": "python",
   "pygments_lexer": "ipython3",
   "version": "3.11.8"
  }
 },
 "nbformat": 4,
 "nbformat_minor": 5
}
