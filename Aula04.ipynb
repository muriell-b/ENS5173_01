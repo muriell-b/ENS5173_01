{
 "cells": [
  {
   "cell_type": "markdown",
   "id": "55a19fe1-1680-412a-88f7-d298febca394",
   "metadata": {},
   "source": [
    "ANÁLISE DE SÉRIES TEMPORAIS"
   ]
  },
  {
   "cell_type": "code",
   "execution_count": 11,
   "id": "5553348e-1ec8-416e-b141-792b232e474d",
   "metadata": {},
   "outputs": [],
   "source": [
    "import pandas as pd\n",
    "import os\n",
    "\n",
    "# Definindo o caminho para o diretório D:\\ENS5173_01\\dados\n",
    "directory_path = r'D:\\ENS5173_01\\dados'\n",
    "\n",
    "# Definindo o caminho completo para o arquivo CSV dentro do diretório\n",
    "file_path = os.path.join(directory_path, 'brutos', 'metar.csv')\n"
   ]
  },
  {
   "cell_type": "code",
   "execution_count": 7,
   "id": "75be28c9-29ce-446c-9c0c-38373c9e392d",
   "metadata": {},
   "outputs": [
    {
     "ename": "NameError",
     "evalue": "name 'data' is not defined",
     "output_type": "error",
     "traceback": [
      "\u001b[1;31m---------------------------------------------------------------------------\u001b[0m",
      "\u001b[1;31mNameError\u001b[0m                                 Traceback (most recent call last)",
      "Cell \u001b[1;32mIn[7], line 2\u001b[0m\n\u001b[0;32m      1\u001b[0m \u001b[38;5;66;03m# Médias diárias\u001b[39;00m\n\u001b[1;32m----> 2\u001b[0m dailyAve \u001b[38;5;241m=\u001b[39m \u001b[43mdata\u001b[49m\u001b[38;5;241m.\u001b[39mgroupby([\u001b[38;5;124m'\u001b[39m\u001b[38;5;124myear\u001b[39m\u001b[38;5;124m'\u001b[39m,\u001b[38;5;124m'\u001b[39m\u001b[38;5;124mmonth\u001b[39m\u001b[38;5;124m'\u001b[39m,\u001b[38;5;124m'\u001b[39m\u001b[38;5;124mday\u001b[39m\u001b[38;5;124m'\u001b[39m])\u001b[38;5;241m.\u001b[39mmean()\n\u001b[0;32m      3\u001b[0m dailyAve \u001b[38;5;241m=\u001b[39m dailyAve\u001b[38;5;241m.\u001b[39mreset_index()\n\u001b[0;32m      4\u001b[0m df \u001b[38;5;241m=\u001b[39m pd\u001b[38;5;241m.\u001b[39mDataFrame({\u001b[38;5;124m'\u001b[39m\u001b[38;5;124myear\u001b[39m\u001b[38;5;124m'\u001b[39m: dailyAve[\u001b[38;5;124m'\u001b[39m\u001b[38;5;124myear\u001b[39m\u001b[38;5;124m'\u001b[39m],\n\u001b[0;32m      5\u001b[0m                    \u001b[38;5;124m'\u001b[39m\u001b[38;5;124mmonth\u001b[39m\u001b[38;5;124m'\u001b[39m: dailyAve[\u001b[38;5;124m'\u001b[39m\u001b[38;5;124mmonth\u001b[39m\u001b[38;5;124m'\u001b[39m],\n\u001b[0;32m      6\u001b[0m                    \u001b[38;5;124m'\u001b[39m\u001b[38;5;124mday\u001b[39m\u001b[38;5;124m'\u001b[39m: dailyAve[\u001b[38;5;124m'\u001b[39m\u001b[38;5;124mday\u001b[39m\u001b[38;5;124m'\u001b[39m]})\n",
      "\u001b[1;31mNameError\u001b[0m: name 'data' is not defined"
     ]
    }
   ],
   "source": [
    "# Médias diárias\n",
    "dailyAve = data.groupby(['year','month','day']).mean()\n",
    "dailyAve = dailyAve.reset_index()\n",
    "df = pd.DataFrame({'year': dailyAve['year'],\n",
    "                   'month': dailyAve['month'],\n",
    "                   'day': dailyAve['day']})\n",
    "df = pd.to_datetime(df)\n",
    "dailyAve['datetime'] = df\n",
    "dailyAve = dailyAve.set_index(['datetime'])\n",
    "\n",
    "# plot dailyAve umidade\n",
    "import matplotlib.pyplot as plt\n",
    "fig,ax = plt.subplots()\n",
    "ax.plot(dailyAve.index,dailyAve['relh'])"
   ]
  },
  {
   "cell_type": "code",
   "execution_count": 8,
   "id": "39d7c22b-d142-4071-bfed-3cc783de4d0d",
   "metadata": {},
   "outputs": [
    {
     "ename": "SyntaxError",
     "evalue": "invalid syntax (1458005093.py, line 1)",
     "output_type": "error",
     "traceback": [
      "\u001b[1;36m  Cell \u001b[1;32mIn[8], line 1\u001b[1;36m\u001b[0m\n\u001b[1;33m    [<matplotlib.lines.Line2D at 0x2304d279150>]\u001b[0m\n\u001b[1;37m     ^\u001b[0m\n\u001b[1;31mSyntaxError\u001b[0m\u001b[1;31m:\u001b[0m invalid syntax\n"
     ]
    }
   ],
   "source": [
    "[<matplotlib.lines.Line2D at 0x2304d279150>]\n"
   ]
  },
  {
   "cell_type": "code",
   "execution_count": null,
   "id": "9b88d4c1-fdd9-4c7d-b55b-7e89e6771b89",
   "metadata": {},
   "outputs": [],
   "source": []
  }
 ],
 "metadata": {
  "kernelspec": {
   "display_name": "Python 3 (ipykernel)",
   "language": "python",
   "name": "python3"
  },
  "language_info": {
   "codemirror_mode": {
    "name": "ipython",
    "version": 3
   },
   "file_extension": ".py",
   "mimetype": "text/x-python",
   "name": "python",
   "nbconvert_exporter": "python",
   "pygments_lexer": "ipython3",
   "version": "3.11.8"
  }
 },
 "nbformat": 4,
 "nbformat_minor": 5
}
