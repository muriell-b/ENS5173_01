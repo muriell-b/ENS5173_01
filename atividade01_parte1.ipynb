{
 "cells": [
  {
   "cell_type": "markdown",
   "id": "b194e8ec-7587-493f-ab0e-c527bb54ad1c",
   "metadata": {},
   "source": [
    "# Abrir planilha de fatores de emissões compilada.\n"
   ]
  },
  {
   "cell_type": "code",
   "execution_count": 4,
   "id": "ff2b1f9f-467d-46cf-857b-d6b0bab7e836",
   "metadata": {},
   "outputs": [],
   "source": [
    "#https://www.epa.gov/sites/default/files/2020-10/documents/c11s15.pdf minha empresa de produção de vidro - AP42 CAP 11.15\n",
    "\n",
    "import pandas as pd\n",
    "import os\n"
   ]
  },
  {
   "cell_type": "code",
   "execution_count": 2,
   "id": "29aa6446-85d9-4b68-b5fa-5cd195ea4d6f",
   "metadata": {},
   "outputs": [],
   "source": [
    "# Coletando o caminho da pasta que estou\n",
    "cwd = os.getcwd()\n"
   ]
  },
  {
   "cell_type": "code",
   "execution_count": 3,
   "id": "ef8ef52e-85bd-49cc-92d8-16cc7cf6dd66",
   "metadata": {},
   "outputs": [
    {
     "name": "stdout",
     "output_type": "stream",
     "text": [
      "D:\\ENS5173_01\\tabelas\\FE\n"
     ]
    }
   ],
   "source": [
    "# Pasta dos fatores de emissão\n",
    "path = cwd+'\\\\tabelas\\\\FE'\n",
    "print(path)"
   ]
  },
  {
   "cell_type": "code",
   "execution_count": 14,
   "id": "fe657858-6fd9-4ca8-bd21-4958b1d527ee",
   "metadata": {},
   "outputs": [
    {
     "name": "stdout",
     "output_type": "stream",
     "text": [
      "chp_11_15.csv\n",
      "D:\\ENS5173_01\\tabelas\\FE\\chp_11_15.csv\n"
     ]
    }
   ],
   "source": [
    "# Indicando nome do arquivo\n",
    "chapterNumer = 11\n",
    "subChapter = 15\n",
    "file = 'chp_'+str(11)+'_'+str(15)+'.csv'\n",
    "print(file)\n",
    "print(file_path)\n",
    "\n"
   ]
  },
  {
   "cell_type": "code",
   "execution_count": 37,
   "id": "48e45235-7bc2-41ee-a208-35a3d3c2b0b2",
   "metadata": {},
   "outputs": [
    {
     "name": "stdout",
     "output_type": "stream",
     "text": [
      "O arquivo não foi encontrado.\n"
     ]
    }
   ],
   "source": [
    "import pandas as pd\n",
    "import os\n",
    "\n",
    "# Pasta dos fatores de emissão\n",
    "path = r'D:\\ENS5173_01\\tabelas\\FE'\n",
    "\n",
    "# Nome do arquivo\n",
    "file_name = 'chp_11_15.csv'\n",
    "\n",
    "# Caminho completo do arquivo\n",
    "file_path = os.path.join(path, file_name)\n",
    "\n",
    "# Tente abrir o arquivo com o Pandas\n",
    "try:\n",
    "    fe = pd.read_csv(file_path)\n",
    "    print(fe)\n",
    "except FileNotFoundError:\n",
    "    print(\"O arquivo não foi encontrado.\")\n",
    "\n"
   ]
  },
  {
   "cell_type": "code",
   "execution_count": null,
   "id": "238f1493-5b49-4c1e-8a0d-0cbf3453d953",
   "metadata": {},
   "outputs": [],
   "source": []
  },
  {
   "cell_type": "code",
   "execution_count": null,
   "id": "e017d6eb-e837-42b3-a7ae-d6c63cde01fa",
   "metadata": {},
   "outputs": [],
   "source": []
  }
 ],
 "metadata": {
  "kernelspec": {
   "display_name": "Python 3 (ipykernel)",
   "language": "python",
   "name": "python3"
  },
  "language_info": {
   "codemirror_mode": {
    "name": "ipython",
    "version": 3
   },
   "file_extension": ".py",
   "mimetype": "text/x-python",
   "name": "python",
   "nbconvert_exporter": "python",
   "pygments_lexer": "ipython3",
   "version": "3.11.8"
  }
 },
 "nbformat": 4,
 "nbformat_minor": 5
}
